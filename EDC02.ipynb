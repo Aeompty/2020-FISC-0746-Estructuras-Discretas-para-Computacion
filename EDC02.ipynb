{
  "nbformat": 4,
  "nbformat_minor": 0,
  "metadata": {
    "colab": {
      "name": "EDC02.ipynb",
      "provenance": []
    },
    "kernelspec": {
      "name": "python3",
      "display_name": "Python 3"
    }
  },
  "cells": [
    {
      "cell_type": "markdown",
      "metadata": {
        "id": "aXK1TqRTbdel",
        "colab_type": "text"
      },
      "source": [
        "# Lab 02\n",
        "Ezequiel Aguilar González \n",
        "https://colab.research.google.com/"
      ]
    },
    {
      "cell_type": "markdown",
      "metadata": {
        "id": "KSJFlagDbu5o",
        "colab_type": "text"
      },
      "source": [
        "## Diccionarios\n"
      ]
    },
    {
      "cell_type": "code",
      "metadata": {
        "id": "9sty7f94bc2Z",
        "colab_type": "code",
        "colab": {}
      },
      "source": [
        "codigos_paises = {'Finland': 'fi', 'South Africa': 'za', \n",
        "                  'Nepal': 'np', 'Panama': 'pa'}"
      ],
      "execution_count": 0,
      "outputs": []
    },
    {
      "cell_type": "code",
      "metadata": {
        "id": "bq-n11Edb4HR",
        "colab_type": "code",
        "colab": {
          "base_uri": "https://localhost:8080/",
          "height": 35
        },
        "outputId": "d01c53c6-4f6b-4524-b0f6-4012cbf5b777"
      },
      "source": [
        "codigos_paises"
      ],
      "execution_count": 16,
      "outputs": [
        {
          "output_type": "execute_result",
          "data": {
            "text/plain": [
              "{'Finland': 'fi', 'Nepal': 'np', 'Panama': 'pa', 'South Africa': 'za'}"
            ]
          },
          "metadata": {
            "tags": []
          },
          "execution_count": 16
        }
      ]
    },
    {
      "cell_type": "markdown",
      "metadata": {
        "id": "yRCtUoNPcAZI",
        "colab_type": "text"
      },
      "source": [
        "### Diccionario Vacío?\n"
      ]
    },
    {
      "cell_type": "code",
      "metadata": {
        "id": "6R0VLgL3cFAj",
        "colab_type": "code",
        "colab": {
          "base_uri": "https://localhost:8080/",
          "height": 35
        },
        "outputId": "56c50573-8d77-471a-9567-272f5b6c843f"
      },
      "source": [
        "tamano = len(codigos_paises)\n",
        "tamano\n"
      ],
      "execution_count": 21,
      "outputs": [
        {
          "output_type": "execute_result",
          "data": {
            "text/plain": [
              "4"
            ]
          },
          "metadata": {
            "tags": []
          },
          "execution_count": 21
        }
      ]
    },
    {
      "cell_type": "code",
      "metadata": {
        "id": "1u-liaBkjixL",
        "colab_type": "code",
        "colab": {
          "base_uri": "https://localhost:8080/",
          "height": 35
        },
        "outputId": "7aada5fa-188c-494b-a1a4-1542d20b42b6"
      },
      "source": [
        "codigos_paises"
      ],
      "execution_count": 22,
      "outputs": [
        {
          "output_type": "execute_result",
          "data": {
            "text/plain": [
              "{'Finland': 'fi', 'Nepal': 'np', 'Panama': 'pa', 'South Africa': 'za'}"
            ]
          },
          "metadata": {
            "tags": []
          },
          "execution_count": 22
        }
      ]
    },
    {
      "cell_type": "code",
      "metadata": {
        "id": "T2V6bStPhldC",
        "colab_type": "code",
        "colab": {
          "base_uri": "https://localhost:8080/",
          "height": 35
        },
        "outputId": "b935f83b-af61-4fee-be6e-e0cdd5840ef3"
      },
      "source": [
        "if codigos_paises:\n",
        "  print('Diccionario no Vacio')\n",
        "else:\n",
        "  print('Diccinario Vacio')"
      ],
      "execution_count": 20,
      "outputs": [
        {
          "output_type": "stream",
          "text": [
            "Diccionario no Vacio\n"
          ],
          "name": "stdout"
        }
      ]
    },
    {
      "cell_type": "code",
      "metadata": {
        "id": "YfVDKvbOhjM6",
        "colab_type": "code",
        "colab": {}
      },
      "source": [
        "codigos_paises.clear()"
      ],
      "execution_count": 0,
      "outputs": []
    },
    {
      "cell_type": "markdown",
      "metadata": {
        "id": "xmdCG8JgjsEi",
        "colab_type": "text"
      },
      "source": [
        "### Iteraccion de Diccionario\n"
      ]
    },
    {
      "cell_type": "code",
      "metadata": {
        "id": "LR0W6Jm-jxw1",
        "colab_type": "code",
        "colab": {
          "base_uri": "https://localhost:8080/",
          "height": 54
        },
        "outputId": "bc7b59ca-a93f-46c9-878a-579ab1c42183"
      },
      "source": [
        "dias_por_mes = {'Enero': 31, 'Febrero': 28, 'Marzo': 31, 'Abril': 30}\n",
        "print(dias_por_mes)\n",
        "print(len(dias_por_mes))"
      ],
      "execution_count": 34,
      "outputs": [
        {
          "output_type": "stream",
          "text": [
            "{'Enero': 31, 'Febrero': 28, 'Marzo': 31, 'Abril': 30}\n",
            "4\n"
          ],
          "name": "stdout"
        }
      ]
    },
    {
      "cell_type": "code",
      "metadata": {
        "id": "Fa5XE5mekNVA",
        "colab_type": "code",
        "colab": {
          "base_uri": "https://localhost:8080/",
          "height": 90
        },
        "outputId": "d9a78e8f-e020-43ed-dabd-7048c9db689e"
      },
      "source": [
        "for mes, dias in dias_por_mes.items():\n",
        "  print(f'El mes de {mes} tiene {dias}')"
      ],
      "execution_count": 35,
      "outputs": [
        {
          "output_type": "stream",
          "text": [
            "El mes de Enero tiene 31\n",
            "El mes de Febrero tiene 28\n",
            "El mes de Marzo tiene 31\n",
            "El mes de Abril tiene 30\n"
          ],
          "name": "stdout"
        }
      ]
    },
    {
      "cell_type": "code",
      "metadata": {
        "id": "rfvtiBNblRSA",
        "colab_type": "code",
        "colab": {}
      },
      "source": [
        "notas_estudiantes= {'Maria': [98, 79, 45], 'Jose': [88, 91, 95]}"
      ],
      "execution_count": 0,
      "outputs": []
    },
    {
      "cell_type": "markdown",
      "metadata": {
        "id": "REiGaQEQqNyl",
        "colab_type": "text"
      },
      "source": [
        "### Eliminar un elemento del diccionario"
      ]
    },
    {
      "cell_type": "code",
      "metadata": {
        "id": "YySTmLQQnOPJ",
        "colab_type": "code",
        "colab": {},
        "cellView": "form"
      },
      "source": [
        "#@title\n",
        "del notas_estudiantes['Maria']"
      ],
      "execution_count": 0,
      "outputs": []
    },
    {
      "cell_type": "code",
      "metadata": {
        "id": "Q6W_qkaZm3gp",
        "colab_type": "code",
        "colab": {
          "base_uri": "https://localhost:8080/",
          "height": 35
        },
        "cellView": "form",
        "outputId": "a42e49ba-db28-4a13-c3cb-d5d044cfb2bd"
      },
      "source": [
        "#@title\n",
        "for nombre, notas in notas_estudiantes.items():\n",
        "  print(nombre)"
      ],
      "execution_count": 54,
      "outputs": [
        {
          "output_type": "stream",
          "text": [
            "Jose\n"
          ],
          "name": "stdout"
        }
      ]
    },
    {
      "cell_type": "code",
      "metadata": {
        "id": "VFPyKZ60qoW-",
        "colab_type": "code",
        "colab": {
          "base_uri": "https://localhost:8080/",
          "height": 35
        },
        "outputId": "8c7c0d29-f07d-456b-ba22-df0a3a15beaa"
      },
      "source": [
        "notas_estudiantes"
      ],
      "execution_count": 55,
      "outputs": [
        {
          "output_type": "execute_result",
          "data": {
            "text/plain": [
              "{'Jose': [88, 91, 95]}"
            ]
          },
          "metadata": {
            "tags": []
          },
          "execution_count": 55
        }
      ]
    },
    {
      "cell_type": "code",
      "metadata": {
        "id": "hrKiy0K-qzlU",
        "colab_type": "code",
        "colab": {}
      },
      "source": [
        "notas_estudiantes['Maria'] = [79, 99, 67]"
      ],
      "execution_count": 0,
      "outputs": []
    },
    {
      "cell_type": "code",
      "metadata": {
        "id": "QCqZsOAGrCZW",
        "colab_type": "code",
        "colab": {
          "base_uri": "https://localhost:8080/",
          "height": 35
        },
        "outputId": "930c7b05-41bc-4044-efe8-86b2d3e38419"
      },
      "source": [
        "'Rodrigo' in notas_estudiantes"
      ],
      "execution_count": 61,
      "outputs": [
        {
          "output_type": "execute_result",
          "data": {
            "text/plain": [
              "False"
            ]
          },
          "metadata": {
            "tags": []
          },
          "execution_count": 61
        }
      ]
    },
    {
      "cell_type": "code",
      "metadata": {
        "id": "sAfawSXhs7Ut",
        "colab_type": "code",
        "colab": {}
      },
      "source": [
        ""
      ],
      "execution_count": 0,
      "outputs": []
    },
    {
      "cell_type": "markdown",
      "metadata": {
        "id": "zxNEz0R-s-Gq",
        "colab_type": "text"
      },
      "source": [
        "Practica\n",
        "\n",
        "1 - Crear un diccionario Peliculas\n",
        "Key = Nombre de la pelicula\n",
        "Value = Nombre del Director\n",
        "\n",
        "3\n",
        "\n",
        "Texto = La pelicula x fue dirigida por y"
      ]
    },
    {
      "cell_type": "code",
      "metadata": {
        "id": "ABoErJHlqzc7",
        "colab_type": "code",
        "colab": {}
      },
      "source": [
        ""
      ],
      "execution_count": 0,
      "outputs": []
    }
  ]
}